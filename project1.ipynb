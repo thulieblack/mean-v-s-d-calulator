{
 "cells": [
  {
   "cell_type": "code",
   "execution_count": 18,
   "metadata": {},
   "outputs": [],
   "source": [
    "import numpy as np\n",
    "\n",
    "calculations = {}\n",
    "def calculate (the_list):\n",
    "    if len(the_list) != 9:\n",
    "        \n",
    "        matrix = np.reshape(the_list,(3,3))\n",
    "        \n",
    "        mu = dict({'axis_0':np.mean(matrix,axis=0),'axis=1':np.mean(matrix,axis=1),'flattened':np.mean(matrix)})\n",
    "        var_= dict({'axis_0':np.var(matrix,axis=0),'axis=1':np.var(matrix,axis=1),'flattened':np.var(matrix)})\n",
    "        std_= dict({'axis_0':np.std(matrix,axis=0),'axis=1':np.std(matrix,axis=1),'flattened':np.std(matrix)})\n",
    "        max_= dict({'axis_0':np.max(matrix,axis=0),'axis=1':np.max(matrix,axis=1),'flattened':np.max(matrix)})\n",
    "        min_= dict({'axis_0':np.min(matrix,axis=0),'axis=1':np.min(matrix,axis=1),'flattened':np.min(matrix)})\n",
    "        sum_= dict({'axis_0':np.sum(matrix,axis=0),'axis=1':np.sum(matrix,axis=1),'flattened':np.sum(matrix)})\n",
    "        \n",
    "        calculations = {'mean': [mu], 'varience': [var_],'standard deviation': [std_],'max': [max_],'min': [min_],'sum': [sum_]}\n",
    "        \n",
    "        return calculations\n",
    "    else:\n",
    "        print('must contain nine numbers')\n",
    "        "
   ]
  },
  {
   "cell_type": "code",
   "execution_count": 24,
   "metadata": {
    "scrolled": true
   },
   "outputs": [
    {
     "name": "stdout",
     "output_type": "stream",
     "text": [
      "must contain nine numbers\n"
     ]
    }
   ],
   "source": [
    "the_list = [0,1,2,3,4,5,6,7,8,9]\n",
    "calculate(the_list)"
   ]
  },
  {
   "cell_type": "code",
   "execution_count": 25,
   "metadata": {},
   "outputs": [
    {
     "data": {
      "text/plain": [
       "{'mean': [{'axis_0': array([3., 4., 5.]),\n",
       "   'axis=1': array([1., 4., 7.]),\n",
       "   'flattened': 4.0}],\n",
       " 'varience': [{'axis_0': array([6., 6., 6.]),\n",
       "   'axis=1': array([0.66666667, 0.66666667, 0.66666667]),\n",
       "   'flattened': 6.666666666666667}],\n",
       " 'standard deviation': [{'axis_0': array([2.44948974, 2.44948974, 2.44948974]),\n",
       "   'axis=1': array([0.81649658, 0.81649658, 0.81649658]),\n",
       "   'flattened': 2.581988897471611}],\n",
       " 'max': [{'axis_0': array([6, 7, 8]),\n",
       "   'axis=1': array([2, 5, 8]),\n",
       "   'flattened': 8}],\n",
       " 'min': [{'axis_0': array([0, 1, 2]),\n",
       "   'axis=1': array([0, 3, 6]),\n",
       "   'flattened': 0}],\n",
       " 'sum': [{'axis_0': array([ 9, 12, 15]),\n",
       "   'axis=1': array([ 3, 12, 21]),\n",
       "   'flattened': 36}]}"
      ]
     },
     "execution_count": 25,
     "metadata": {},
     "output_type": "execute_result"
    }
   ],
   "source": [
    "the_list = [0,1,2,3,4,5,6,7,8]\n",
    "calculate(the_list)"
   ]
  },
  {
   "cell_type": "code",
   "execution_count": null,
   "metadata": {},
   "outputs": [],
   "source": []
  }
 ],
 "metadata": {
  "kernelspec": {
   "display_name": "Python 3",
   "language": "python",
   "name": "python3"
  },
  "language_info": {
   "codemirror_mode": {
    "name": "ipython",
    "version": 3
   },
   "file_extension": ".py",
   "mimetype": "text/x-python",
   "name": "python",
   "nbconvert_exporter": "python",
   "pygments_lexer": "ipython3",
   "version": "3.8.3"
  }
 },
 "nbformat": 4,
 "nbformat_minor": 4
}
